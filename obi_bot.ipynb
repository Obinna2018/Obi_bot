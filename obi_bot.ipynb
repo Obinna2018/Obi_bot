{
 "cells": [
  {
   "cell_type": "code",
   "execution_count": 15,
   "metadata": {
    "collapsed": false
   },
   "outputs": [],
   "source": [
    "import requests #an http library written for humans\n",
    "import tweepy"
   ]
  },
  {
   "cell_type": "code",
   "execution_count": 16,
   "metadata": {
    "collapsed": false
   },
   "outputs": [],
   "source": [
    "# The get method is called when we\n",
    "# want to GET json data from an API endpoint\n",
    "#quotes = requests.get(headers) \n",
    "\n",
    "response = requests.get(\"https://andruxnet-random-famous-quotes.p.rapidapi.com/?cat=famous&count=10\",\n",
    "  headers={\n",
    "    \"X-RapidAPI-Key\": \"296b1be17bmsh911fb67efb47416p1126a8jsn7d5e388ce586\"\n",
    "  }\n",
    ")"
   ]
  },
  {
   "cell_type": "code",
   "execution_count": 17,
   "metadata": {
    "collapsed": false,
    "scrolled": false
   },
   "outputs": [
    {
     "name": "stdout",
     "output_type": "stream",
     "text": [
      "[{'quote': 'Facts are the enemy of truth.', 'author': \"Don Quixote 'Man of La Mancha'\", 'category': 'Famous'}, {'quote': 'Problems worthy of attack prove their worth by fighting back.', 'author': 'Paul Erdos', 'category': 'Famous'}, {'quote': 'I have nothing to declare except my genius.', 'author': 'Oscar Wilde', 'category': 'Famous'}, {'quote': \"Don't stay in bed, unless you can make money in bed.\", 'author': 'George Burns', 'category': 'Famous'}, {'quote': 'When one person suffers from a delusion it is called insanity; when many people suffer from a delusion it is called religion.', 'author': 'Robert Pirsig', 'category': 'Famous'}, {'quote': 'I find that the harder I work, the more luck I seem to have.', 'author': 'Thomas Jefferson', 'category': 'Famous'}, {'quote': \"Give me a museum and I'll fill it.\", 'author': 'Pablo Picasso', 'category': 'Famous'}, {'quote': 'A people that values its privileges above its principles soon loses both.', 'author': 'Dwight D. Eisenhower', 'category': 'Famous'}, {'quote': 'Some cause happiness wherever they go; others, whenever they go.', 'author': 'Oscar Wilde', 'category': 'Famous'}, {'quote': \"I don't know why we are here, but I'm pretty sure that it is not in order to enjoy ourselves.\", 'author': 'Ludwig Wittgenstein', 'category': 'Famous'}]\n"
     ]
    }
   ],
   "source": [
    "print(response.json())"
   ]
  },
  {
   "cell_type": "code",
   "execution_count": 18,
   "metadata": {
    "collapsed": true
   },
   "outputs": [],
   "source": [
    "def get_quote():\n",
    "    response = requests.get(\"https://andruxnet-random-famous-quotes.p.rapidapi.com/?cat=famous&count=10\",\n",
    "    headers={\n",
    "    \"X-RapidAPI-Key\": \"296b1be17bmsh911fb67efb47416p1126a8jsn7d5e388ce586\"\n",
    "    }\n",
    "    )\n",
    "    json = response.json()[0]\n",
    "    tweet = json['quote'] + '-' + json['author']\n",
    "    return tweet"
   ]
  },
  {
   "cell_type": "code",
   "execution_count": 19,
   "metadata": {
    "collapsed": false
   },
   "outputs": [
    {
     "name": "stdout",
     "output_type": "stream",
     "text": [
      "Only two things are infinite, the universe and human stupidity, and I'm not sure about the former.-Albert Einstein\n"
     ]
    }
   ],
   "source": [
    "print(get_quote())"
   ]
  },
  {
   "cell_type": "code",
   "execution_count": 25,
   "metadata": {
    "collapsed": false,
    "scrolled": true
   },
   "outputs": [],
   "source": [
    "consumer_key = 'udM9QBdPULslrSXnxKMhTJnav'\n",
    "consumer_secret = 'baOPQxUDp3ciuy001BXa10h9583lSjn9VqiyiOmafbCdTU7zGu'\n",
    "access_token = '948607699897475072-JhDZJGvIxPTAjJ8SVNO0utzSyXe2Tij'\n",
    "access_token_secret = 'DschGmvht76XYTGPdUTFSmS4vrCZ62lZDVd8SCTiSx4MW'"
   ]
  },
  {
   "cell_type": "code",
   "execution_count": 26,
   "metadata": {
    "collapsed": false
   },
   "outputs": [],
   "source": [
    "# Twitter requires oAuth2 to access its API\n",
    "auth = tweepy.OAuthHandler(consumer_key, consumer_secret)\n",
    "auth.set_access_token(access_token, access_token_secret)\n",
    "api = tweepy.API(auth)"
   ]
  },
  {
   "cell_type": "code",
   "execution_count": 28,
   "metadata": {
    "collapsed": false
   },
   "outputs": [
    {
     "data": {
      "text/plain": [
       "Status(_api=<tweepy.api.API object at 0x034DC450>, _json={'created_at': 'Mon Apr 22 19:34:54 +0000 2019', 'id': 1120410670640566273, 'id_str': '1120410670640566273', 'text': 'Hello world', 'truncated': False, 'entities': {'hashtags': [], 'symbols': [], 'user_mentions': [], 'urls': []}, 'source': '<a href=\"https://twitter.com\" rel=\"nofollow\">Obi_bot</a>', 'in_reply_to_status_id': None, 'in_reply_to_status_id_str': None, 'in_reply_to_user_id': None, 'in_reply_to_user_id_str': None, 'in_reply_to_screen_name': None, 'user': {'id': 948607699897475072, 'id_str': '948607699897475072', 'name': 'Obinna Ugwu', 'screen_name': 'Obi_himself', 'location': 'Ibadan, Nigeria', 'description': 'Tabula rasa', 'url': None, 'entities': {'description': {'urls': []}}, 'protected': False, 'followers_count': 133, 'friends_count': 211, 'listed_count': 0, 'created_at': 'Wed Jan 03 17:31:14 +0000 2018', 'favourites_count': 4554, 'utc_offset': None, 'time_zone': None, 'geo_enabled': False, 'verified': False, 'statuses_count': 1113, 'lang': 'en', 'contributors_enabled': False, 'is_translator': False, 'is_translation_enabled': False, 'profile_background_color': 'F5F8FA', 'profile_background_image_url': None, 'profile_background_image_url_https': None, 'profile_background_tile': False, 'profile_image_url': 'http://pbs.twimg.com/profile_images/1037994427896221696/DyMtdiui_normal.jpg', 'profile_image_url_https': 'https://pbs.twimg.com/profile_images/1037994427896221696/DyMtdiui_normal.jpg', 'profile_banner_url': 'https://pbs.twimg.com/profile_banners/948607699897475072/1515001163', 'profile_link_color': '1DA1F2', 'profile_sidebar_border_color': 'C0DEED', 'profile_sidebar_fill_color': 'DDEEF6', 'profile_text_color': '333333', 'profile_use_background_image': True, 'has_extended_profile': True, 'default_profile': True, 'default_profile_image': False, 'following': False, 'follow_request_sent': False, 'notifications': False, 'translator_type': 'none'}, 'geo': None, 'coordinates': None, 'place': None, 'contributors': None, 'is_quote_status': False, 'retweet_count': 0, 'favorite_count': 0, 'favorited': False, 'retweeted': False, 'lang': 'en'}, created_at=datetime.datetime(2019, 4, 22, 19, 34, 54), id=1120410670640566273, id_str='1120410670640566273', text='Hello world', truncated=False, entities={'hashtags': [], 'symbols': [], 'user_mentions': [], 'urls': []}, source='Obi_bot', source_url='https://twitter.com', in_reply_to_status_id=None, in_reply_to_status_id_str=None, in_reply_to_user_id=None, in_reply_to_user_id_str=None, in_reply_to_screen_name=None, author=User(_api=<tweepy.api.API object at 0x034DC450>, _json={'id': 948607699897475072, 'id_str': '948607699897475072', 'name': 'Obinna Ugwu', 'screen_name': 'Obi_himself', 'location': 'Ibadan, Nigeria', 'description': 'Tabula rasa', 'url': None, 'entities': {'description': {'urls': []}}, 'protected': False, 'followers_count': 133, 'friends_count': 211, 'listed_count': 0, 'created_at': 'Wed Jan 03 17:31:14 +0000 2018', 'favourites_count': 4554, 'utc_offset': None, 'time_zone': None, 'geo_enabled': False, 'verified': False, 'statuses_count': 1113, 'lang': 'en', 'contributors_enabled': False, 'is_translator': False, 'is_translation_enabled': False, 'profile_background_color': 'F5F8FA', 'profile_background_image_url': None, 'profile_background_image_url_https': None, 'profile_background_tile': False, 'profile_image_url': 'http://pbs.twimg.com/profile_images/1037994427896221696/DyMtdiui_normal.jpg', 'profile_image_url_https': 'https://pbs.twimg.com/profile_images/1037994427896221696/DyMtdiui_normal.jpg', 'profile_banner_url': 'https://pbs.twimg.com/profile_banners/948607699897475072/1515001163', 'profile_link_color': '1DA1F2', 'profile_sidebar_border_color': 'C0DEED', 'profile_sidebar_fill_color': 'DDEEF6', 'profile_text_color': '333333', 'profile_use_background_image': True, 'has_extended_profile': True, 'default_profile': True, 'default_profile_image': False, 'following': False, 'follow_request_sent': False, 'notifications': False, 'translator_type': 'none'}, id=948607699897475072, id_str='948607699897475072', name='Obinna Ugwu', screen_name='Obi_himself', location='Ibadan, Nigeria', description='Tabula rasa', url=None, entities={'description': {'urls': []}}, protected=False, followers_count=133, friends_count=211, listed_count=0, created_at=datetime.datetime(2018, 1, 3, 17, 31, 14), favourites_count=4554, utc_offset=None, time_zone=None, geo_enabled=False, verified=False, statuses_count=1113, lang='en', contributors_enabled=False, is_translator=False, is_translation_enabled=False, profile_background_color='F5F8FA', profile_background_image_url=None, profile_background_image_url_https=None, profile_background_tile=False, profile_image_url='http://pbs.twimg.com/profile_images/1037994427896221696/DyMtdiui_normal.jpg', profile_image_url_https='https://pbs.twimg.com/profile_images/1037994427896221696/DyMtdiui_normal.jpg', profile_banner_url='https://pbs.twimg.com/profile_banners/948607699897475072/1515001163', profile_link_color='1DA1F2', profile_sidebar_border_color='C0DEED', profile_sidebar_fill_color='DDEEF6', profile_text_color='333333', profile_use_background_image=True, has_extended_profile=True, default_profile=True, default_profile_image=False, following=False, follow_request_sent=False, notifications=False, translator_type='none'), user=User(_api=<tweepy.api.API object at 0x034DC450>, _json={'id': 948607699897475072, 'id_str': '948607699897475072', 'name': 'Obinna Ugwu', 'screen_name': 'Obi_himself', 'location': 'Ibadan, Nigeria', 'description': 'Tabula rasa', 'url': None, 'entities': {'description': {'urls': []}}, 'protected': False, 'followers_count': 133, 'friends_count': 211, 'listed_count': 0, 'created_at': 'Wed Jan 03 17:31:14 +0000 2018', 'favourites_count': 4554, 'utc_offset': None, 'time_zone': None, 'geo_enabled': False, 'verified': False, 'statuses_count': 1113, 'lang': 'en', 'contributors_enabled': False, 'is_translator': False, 'is_translation_enabled': False, 'profile_background_color': 'F5F8FA', 'profile_background_image_url': None, 'profile_background_image_url_https': None, 'profile_background_tile': False, 'profile_image_url': 'http://pbs.twimg.com/profile_images/1037994427896221696/DyMtdiui_normal.jpg', 'profile_image_url_https': 'https://pbs.twimg.com/profile_images/1037994427896221696/DyMtdiui_normal.jpg', 'profile_banner_url': 'https://pbs.twimg.com/profile_banners/948607699897475072/1515001163', 'profile_link_color': '1DA1F2', 'profile_sidebar_border_color': 'C0DEED', 'profile_sidebar_fill_color': 'DDEEF6', 'profile_text_color': '333333', 'profile_use_background_image': True, 'has_extended_profile': True, 'default_profile': True, 'default_profile_image': False, 'following': False, 'follow_request_sent': False, 'notifications': False, 'translator_type': 'none'}, id=948607699897475072, id_str='948607699897475072', name='Obinna Ugwu', screen_name='Obi_himself', location='Ibadan, Nigeria', description='Tabula rasa', url=None, entities={'description': {'urls': []}}, protected=False, followers_count=133, friends_count=211, listed_count=0, created_at=datetime.datetime(2018, 1, 3, 17, 31, 14), favourites_count=4554, utc_offset=None, time_zone=None, geo_enabled=False, verified=False, statuses_count=1113, lang='en', contributors_enabled=False, is_translator=False, is_translation_enabled=False, profile_background_color='F5F8FA', profile_background_image_url=None, profile_background_image_url_https=None, profile_background_tile=False, profile_image_url='http://pbs.twimg.com/profile_images/1037994427896221696/DyMtdiui_normal.jpg', profile_image_url_https='https://pbs.twimg.com/profile_images/1037994427896221696/DyMtdiui_normal.jpg', profile_banner_url='https://pbs.twimg.com/profile_banners/948607699897475072/1515001163', profile_link_color='1DA1F2', profile_sidebar_border_color='C0DEED', profile_sidebar_fill_color='DDEEF6', profile_text_color='333333', profile_use_background_image=True, has_extended_profile=True, default_profile=True, default_profile_image=False, following=False, follow_request_sent=False, notifications=False, translator_type='none'), geo=None, coordinates=None, place=None, contributors=None, is_quote_status=False, retweet_count=0, favorite_count=0, favorited=False, retweeted=False, lang='en')"
      ]
     },
     "execution_count": 28,
     "metadata": {},
     "output_type": "execute_result"
    }
   ],
   "source": [
    "api.update_status('Hello world') # This will update our timeline with \"Hello world\""
   ]
  },
  {
   "cell_type": "code",
   "execution_count": 30,
   "metadata": {
    "collapsed": false,
    "scrolled": true
   },
   "outputs": [
    {
     "name": "stdout",
     "output_type": "stream",
     "text": [
      "Done\n"
     ]
    }
   ],
   "source": [
    "tweet = get_quote()\n",
    "api.update_status(tweet) \n",
    "print('Done')    # This prints ‘Done’ whenever the update is successful"
   ]
  },
  {
   "cell_type": "code",
   "execution_count": 34,
   "metadata": {
    "collapsed": true
   },
   "outputs": [],
   "source": [
    "def tweet_quote():\n",
    "    tweet = get_quote()\n",
    "    status = api.update_status(tweet)\n",
    "    print(status.id)\n",
    "    print('Done')"
   ]
  },
  {
   "cell_type": "code",
   "execution_count": 35,
   "metadata": {
    "collapsed": false
   },
   "outputs": [
    {
     "name": "stdout",
     "output_type": "stream",
     "text": [
      "1120418431629692928\n",
      "Done\n",
      "None\n"
     ]
    }
   ],
   "source": [
    "print(tweet_quote())"
   ]
  }
 ],
 "metadata": {
  "kernelspec": {
   "display_name": "obi_bot",
   "language": "python",
   "name": "obi_bot"
  },
  "language_info": {
   "codemirror_mode": {
    "name": "ipython",
    "version": 3
   },
   "file_extension": ".py",
   "mimetype": "text/x-python",
   "name": "python",
   "nbconvert_exporter": "python",
   "pygments_lexer": "ipython3",
   "version": "3.6.0"
  }
 },
 "nbformat": 4,
 "nbformat_minor": 2
}
